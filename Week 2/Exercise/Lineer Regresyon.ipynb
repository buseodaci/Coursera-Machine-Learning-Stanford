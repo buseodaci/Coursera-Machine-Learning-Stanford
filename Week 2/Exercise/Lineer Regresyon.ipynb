{
 "cells": [
  {
   "cell_type": "code",
   "execution_count": 74,
   "metadata": {
    "collapsed": false
   },
   "outputs": [
   ],
   "source": [
    "%X = [1.65; 1.23; 2.77; 1.85; 3.08; 4.62; 3.58; 4.42; 4.85; 6.08; 5.65; 6.85; 6.85; 8.00; 8.96];\n",
    "%Y = [1.18; 2.23; 1.59; 3.36; 3.82; 3.91; 6.36; 6.23; 5.18; 5.64; 8.18; 7.05; 9.50; 7.50; 9.00];\n",
    "%with loading data\n",
    "data=load('ex1data1.txt');\n",
    "X=data(:,1);\n",
    "Y=data(:,2);"
   ]
  },
  {
   "cell_type": "code",
   "execution_count": 79,
   "metadata": {
    "collapsed": false
   },
   "outputs": [
   ],
   "source": [
    "m=length(Y);\n",
    "Z=[ones(m,1),X];\n",
    "iterations=100;\n",
    "J_history = zeros(iterations, 1);\n",
    "theta=zeros(2, 1);\n",
    "alpha=0.01;\n",
    "plot(X,Y,'b.','MarkerSize',10);\n",
    "xlabel('X');\n",
    "ylabel('Y');\n",
    "\n",
    "for i=1:iterations\n",
    "    hypothesis=Z*theta;\n",
    "    J_history(i)=sum((hypothesis-Y).^2)/(2*m);\n",
    "    theta(1)=theta(1)-(alpha*(sum(hypothesis-Y)))/m;\n",
    "    theta(2)=theta(2)-(alpha*sum((hypothesis-Y).*X))/m;\n",
    "    hold on;\n",
    "    plot(Z(:,2), hypothesis , '-')\n",
    "end,\n",
    "\n"
   ]
  },
  {
   "cell_type": "code",
   "execution_count": 0,
   "metadata": {
    "collapsed": false
   },
   "outputs": [
   ],
   "source": [
   ]
  }
 ],
 "metadata": {
  "kernelspec": {
   "display_name": "Octave",
   "language": "octave",
   "name": "octave"
  },
  "language_info": {
   "file_extension": ".m",
   "help_links": [
    {
     "text": "GNU Octave",
     "url": "https://www.gnu.org/software/octave/support.html"
    },
    {
     "text": "Octave Kernel",
     "url": "https://github.com/Calysto/octave_kernel"
    },
    {
     "text": "MetaKernel Magics",
     "url": "https://metakernel.readthedocs.io/en/latest/source/README.html"
    }
   ],
   "mimetype": "text/x-octave",
   "name": "octave",
   "version": "5.2.0"
  }
 },
 "nbformat": 4,
 "nbformat_minor": 4
}