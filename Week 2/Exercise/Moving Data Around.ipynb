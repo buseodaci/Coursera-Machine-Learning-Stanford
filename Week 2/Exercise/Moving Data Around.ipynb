{
 "cells": [
  {
   "cell_type": "code",
   "execution_count": 1,
   "metadata": {
    "collapsed": false
   },
   "outputs": [
    {
     "name": "stdout",
     "output_type": "stream",
     "text": [
      "A =\r\n",
      "\r\n",
      "   1   2\r\n",
      "   3   4\r\n",
      "   5   6\r\n",
      "\r\n"
     ]
    }
   ],
   "source": [
    "A = [1 2; 3 4; 5 6]"
   ]
  },
  {
   "cell_type": "code",
   "execution_count": 2,
   "metadata": {
    "collapsed": false
   },
   "outputs": [
    {
     "name": "stdout",
     "output_type": "stream",
     "text": [
      "ans =\r\n",
      "\r\n",
      "   3   2\r\n",
      "\r\n"
     ]
    }
   ],
   "source": [
    "size(A)"
   ]
  },
  {
   "cell_type": "code",
   "execution_count": 3,
   "metadata": {
    "collapsed": false
   },
   "outputs": [
    {
     "name": "stdout",
     "output_type": "stream",
     "text": [
      "ans =  3\r\n"
     ]
    }
   ],
   "source": [
    "size (A,1)"
   ]
  },
  {
   "cell_type": "code",
   "execution_count": 4,
   "metadata": {
    "collapsed": false
   },
   "outputs": [
    {
     "name": "stdout",
     "output_type": "stream",
     "text": [
      "ans =  2\r\n"
     ]
    }
   ],
   "source": [
    "size(A,2)"
   ]
  },
  {
   "cell_type": "code",
   "execution_count": 5,
   "metadata": {
    "collapsed": false
   },
   "outputs": [
    {
     "name": "stdout",
     "output_type": "stream",
     "text": [
      "v =\r\n",
      "\r\n",
      "   1   2   3   4\r\n",
      "\r\n"
     ]
    }
   ],
   "source": [
    "v = [1 2 3 4]"
   ]
  },
  {
   "cell_type": "code",
   "execution_count": 6,
   "metadata": {
    "collapsed": false
   },
   "outputs": [
    {
     "name": "stdout",
     "output_type": "stream",
     "text": [
      "ans =  4\r\n"
     ]
    }
   ],
   "source": [
    "length(v)"
   ]
  },
  {
   "cell_type": "code",
   "execution_count": 7,
   "metadata": {
    "collapsed": false
   },
   "outputs": [
    {
     "name": "stdout",
     "output_type": "stream",
     "text": [
      "Variables in the current scope:\r\n",
      "\r\n",
      "A    ans  v\r\n",
      "\r\n"
     ]
    }
   ],
   "source": [
    "who % show variable in the current workspace"
   ]
  },
  {
   "cell_type": "code",
   "execution_count": 9,
   "metadata": {
    "collapsed": false
   },
   "outputs": [
    {
     "name": "stdout",
     "output_type": "stream",
     "text": [
      "featuresX =\r\n",
      "\r\n",
      "   2104      3\r\n",
      "   1600      3\r\n",
      "   2400      3\r\n",
      "   1416      2\r\n",
      "   3000      4\r\n",
      "   1985      4\r\n",
      "   1534      3\r\n",
      "   1427      3\r\n",
      "   1380      3\r\n",
      "   1494      3\r\n",
      "   1940      4\r\n",
      "   2000      3\r\n",
      "   1890      3\r\n",
      "   4478      5\r\n",
      "   1268      3\r\n",
      "   2300      4\r\n",
      "   1320      2\r\n",
      "   1236      3\r\n",
      "   2609      4\r\n",
      "   3031      4\r\n",
      "   1767      3\r\n",
      "   1888      2\r\n",
      "   1604      3\r\n",
      "   1962      4\r\n",
      "   3890      3\r\n",
      "   1100      3\r\n",
      "   1458      3\r\n",
      "   2526      3\r\n",
      "   2200      3\r\n",
      "   2637      3\r\n",
      "   1839      2\r\n",
      "   1000      1\r\n",
      "   2040      4\r\n",
      "   3137      3\r\n",
      "   1811      4\r\n",
      "   1437      3\r\n",
      "   1239      3\r\n",
      "   2132      4\r\n",
      "   4215      4\r\n",
      "   2162      4\r\n",
      "   1664      2\r\n",
      "   2238      3\r\n",
      "   2567      4\r\n",
      "   1200      3\r\n",
      "    852      2\r\n",
      "   1852      4\r\n",
      "   1203      3\r\n",
      "\r\n"
     ]
    }
   ],
   "source": [
    "load featuresX.dat\n",
    "load priceY.dat\n",
    "featuresX"
   ]
  },
  {
   "cell_type": "code",
   "execution_count": 10,
   "metadata": {
    "collapsed": false
   },
   "outputs": [
    {
     "name": "stdout",
     "output_type": "stream",
     "text": [
      "ans =\r\n",
      "\r\n",
      "   47    2\r\n",
      "\r\n"
     ]
    }
   ],
   "source": [
    "size(featuresX)"
   ]
  },
  {
   "cell_type": "code",
   "execution_count": 11,
   "metadata": {
    "collapsed": false
   },
   "outputs": [
    {
     "name": "stdout",
     "output_type": "stream",
     "text": [
      "Variables in the current scope:\r\n",
      "\r\n",
      "   Attr Name           Size                     Bytes  Class\r\n",
      "   ==== ====           ====                     =====  ===== \r\n",
      "        A              3x2                         48  double\r\n",
      "        ans            1x2                         16  double\r\n",
      "        featuresX     47x2                        752  double\r\n",
      "        priceY        47x1                        376  double\r\n",
      "        v              1x4                         32  double\r\n",
      "\r\n",
      "Total is 153 elements using 1224 bytes\r\n",
      "\r\n"
     ]
    }
   ],
   "source": [
    "whos % more detail information"
   ]
  },
  {
   "cell_type": "code",
   "execution_count": 12,
   "metadata": {
    "collapsed": false
   },
   "outputs": [
    {
     "name": "stdout",
     "output_type": "stream",
     "text": [
      "Variables in the current scope:\r\n",
      "\r\n",
      "A       ans     priceY  v\r\n",
      "\r\n"
     ]
    }
   ],
   "source": [
    "clear featuresX\n",
    "who"
   ]
  },
  {
   "cell_type": "code",
   "execution_count": 13,
   "metadata": {
    "collapsed": false
   },
   "outputs": [
    {
     "name": "stdout",
     "output_type": "stream",
     "text": [
      "v =\r\n",
      "\r\n",
      "   399900\r\n",
      "   329900\r\n",
      "   369000\r\n",
      "   232000\r\n",
      "   539900\r\n",
      "   299900\r\n",
      "   314900\r\n",
      "   198999\r\n",
      "   212000\r\n",
      "   242500\r\n",
      "\r\n"
     ]
    }
   ],
   "source": [
    "v = priceY(1:10) % first 10 elements of vector Y"
   ]
  },
  {
   "cell_type": "code",
   "execution_count": 14,
   "metadata": {
    "collapsed": false
   },
   "outputs": [
    {
     "name": "stdout",
     "output_type": "stream",
     "text": [
      "A =\r\n",
      "\r\n",
      "   1   2\r\n",
      "   3   4\r\n",
      "   5   6\r\n",
      "\r\n"
     ]
    }
   ],
   "source": [
    "A = [1 2; 3 4; 5 6]"
   ]
  },
  {
   "cell_type": "code",
   "execution_count": 15,
   "metadata": {
    "collapsed": false
   },
   "outputs": [
    {
     "name": "stdout",
     "output_type": "stream",
     "text": [
      "ans =  6\r\n"
     ]
    }
   ],
   "source": [
    "A(3,2)"
   ]
  },
  {
   "cell_type": "code",
   "execution_count": 19,
   "metadata": {
    "collapsed": false
   },
   "outputs": [
    {
     "name": "stdout",
     "output_type": "stream",
     "text": [
      "ans =\r\n",
      "\r\n",
      "   3   4\r\n",
      "\r\n"
     ]
    }
   ],
   "source": [
    "A(2,:) % \":\" means every element along that row/column"
   ]
  },
  {
   "cell_type": "code",
   "execution_count": 17,
   "metadata": {
    "collapsed": false
   },
   "outputs": [
    {
     "name": "stdout",
     "output_type": "stream",
     "text": [
      "ans =\r\n",
      "\r\n",
      "   2\r\n",
      "   4\r\n",
      "   6\r\n",
      "\r\n"
     ]
    }
   ],
   "source": [
    "A(:,2)"
   ]
  },
  {
   "cell_type": "code",
   "execution_count": 18,
   "metadata": {
    "collapsed": false
   },
   "outputs": [
    {
     "name": "stdout",
     "output_type": "stream",
     "text": [
      "ans =\r\n",
      "\r\n",
      "   1   2\r\n",
      "   5   6\r\n",
      "\r\n"
     ]
    }
   ],
   "source": [
    "A([1 3], :) % get everything of first and third row"
   ]
  },
  {
   "cell_type": "code",
   "execution_count": 20,
   "metadata": {
    "collapsed": false
   },
   "outputs": [
    {
     "name": "stdout",
     "output_type": "stream",
     "text": [
      "A =\r\n",
      "\r\n",
      "    1   10\r\n",
      "    3   11\r\n",
      "    5   12\r\n",
      "\r\n"
     ]
    }
   ],
   "source": [
    "A(:,2) = [10; 11; 12] % assigning vector as a matrix column"
   ]
  },
  {
   "cell_type": "code",
   "execution_count": 21,
   "metadata": {
    "collapsed": false
   },
   "outputs": [
    {
     "name": "stdout",
     "output_type": "stream",
     "text": [
      "A =\r\n",
      "\r\n",
      "     1    10   100\r\n",
      "     3    11   101\r\n",
      "     5    12   102\r\n",
      "\r\n"
     ]
    }
   ],
   "source": [
    "A = [A, [100; 101; 102]] % append another column vector to righ"
   ]
  },
  {
   "cell_type": "code",
   "execution_count": 22,
   "metadata": {
    "collapsed": false
   },
   "outputs": [
    {
     "name": "stdout",
     "output_type": "stream",
     "text": [
      "ans =\r\n",
      "\r\n",
      "     1\r\n",
      "     3\r\n",
      "     5\r\n",
      "    10\r\n",
      "    11\r\n",
      "    12\r\n",
      "   100\r\n",
      "   101\r\n",
      "   102\r\n",
      "\r\n"
     ]
    }
   ],
   "source": [
    "A(:) % put all elements of A into a single vector"
   ]
  },
  {
   "cell_type": "code",
   "execution_count": 23,
   "metadata": {
    "collapsed": false
   },
   "outputs": [
   ],
   "source": [
    "A = [1 2; 3 4; 5 6];\n",
    "B = [11 12; 13 14; 15 16];"
   ]
  },
  {
   "cell_type": "code",
   "execution_count": 25,
   "metadata": {
    "collapsed": false
   },
   "outputs": [
    {
     "name": "stdout",
     "output_type": "stream",
     "text": [
      "C =\r\n",
      "\r\n",
      "    1    2   11   12\r\n",
      "    3    4   13   14\r\n",
      "    5    6   15   16\r\n",
      "\r\n"
     ]
    }
   ],
   "source": [
    "C = [A B] % concat matrix B to the right of A"
   ]
  },
  {
   "cell_type": "code",
   "execution_count": 26,
   "metadata": {
    "collapsed": false
   },
   "outputs": [
    {
     "name": "stdout",
     "output_type": "stream",
     "text": [
      "C =\r\n",
      "\r\n",
      "    1    2\r\n",
      "    3    4\r\n",
      "    5    6\r\n",
      "   11   12\r\n",
      "   13   14\r\n",
      "   15   16\r\n",
      "\r\n"
     ]
    }
   ],
   "source": [
    "C = [A; B] % concat B to bottom of A"
   ]
  }
 ],
 "metadata": {
  "kernelspec": {
   "display_name": "Octave",
   "language": "octave",
   "name": "octave"
  },
  "language_info": {
   "file_extension": ".m",
   "help_links": [
    {
     "text": "GNU Octave",
     "url": "https://www.gnu.org/software/octave/support.html"
    },
    {
     "text": "Octave Kernel",
     "url": "https://github.com/Calysto/octave_kernel"
    },
    {
     "text": "MetaKernel Magics",
     "url": "https://metakernel.readthedocs.io/en/latest/source/README.html"
    }
   ],
   "mimetype": "text/x-octave",
   "name": "octave",
   "version": "5.2.0"
  }
 },
 "nbformat": 4,
 "nbformat_minor": 4
}