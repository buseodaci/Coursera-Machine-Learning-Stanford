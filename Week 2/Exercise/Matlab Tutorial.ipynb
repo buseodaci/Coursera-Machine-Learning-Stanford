{
 "cells": [
  {
   "cell_type": "code",
   "execution_count": 1,
   "metadata": {
    "collapsed": false
   },
   "outputs": [
   ],
   "source": [
    "A = [1 2; 3 4; 5 6];\n",
    "B = [1 2 3; 4 5 6];"
   ]
  },
  {
   "cell_type": "code",
   "execution_count": 2,
   "metadata": {
    "collapsed": false
   },
   "outputs": [
    {
     "name": "stdout",
     "output_type": "stream",
     "text": [
      "A =\r\n",
      "\r\n",
      "   1   2\r\n",
      "   3   4\r\n",
      "   5   6\r\n",
      "\r\n"
     ]
    },
    {
     "name": "stdout",
     "output_type": "stream",
     "text": [
      "B =\r\n",
      "\r\n",
      "   1   2   3\r\n",
      "   4   5   6\r\n",
      "\r\n"
     ]
    }
   ],
   "source": [
    "A\n",
    "B"
   ]
  },
  {
   "cell_type": "code",
   "execution_count": 3,
   "metadata": {
    "collapsed": false
   },
   "outputs": [
    {
     "name": "stdout",
     "output_type": "stream",
     "text": [
      "C =\r\n",
      "\r\n",
      "   16    2    3   13\r\n",
      "    5   11   10    8\r\n",
      "    9    7    6   12\r\n",
      "    4   14   15    1\r\n",
      "\r\n"
     ]
    }
   ],
   "source": [
    "C=[16 2 3 13; 5 11 10 8; 9 7 6 12; 4 14 15 1]"
   ]
  },
  {
   "cell_type": "code",
   "execution_count": 4,
   "metadata": {
    "collapsed": false
   },
   "outputs": [
    {
     "name": "stdout",
     "output_type": "stream",
     "text": [
      "ans =\r\n",
      "\r\n",
      "   16    2\r\n",
      "    5   11\r\n",
      "    9    7\r\n",
      "    4   14\r\n",
      "\r\n"
     ]
    }
   ],
   "source": [
    "C(:,1:2)"
   ]
  },
  {
   "cell_type": "code",
   "execution_count": 8,
   "metadata": {
    "collapsed": false
   },
   "outputs": [
    {
     "name": "stdout",
     "output_type": "stream",
     "text": [
      "ans =\r\n",
      "\r\n",
      "   16    2    3   13\r\n",
      "    5   11   10    8\r\n",
      "\r\n"
     ]
    }
   ],
   "source": [
    "C(1:2,1:4)\n"
   ]
  },
  {
   "cell_type": "code",
   "execution_count": 9,
   "metadata": {
    "collapsed": false
   },
   "outputs": [
    {
     "name": "stdout",
     "output_type": "stream",
     "text": [
      "ans =\r\n",
      "\r\n",
      "   0\r\n",
      "   0\r\n",
      "   0\r\n",
      "   0\r\n",
      "   0\r\n",
      "   0\r\n",
      "   0\r\n",
      "   0\r\n",
      "   0\r\n",
      "   0\r\n",
      "\r\n"
     ]
    }
   ],
   "source": [
    "zeros(10,1)"
   ]
  },
  {
   "cell_type": "code",
   "execution_count": 42,
   "metadata": {
    "collapsed": false
   },
   "outputs": [
    {
     "name": "stdout",
     "output_type": "stream",
     "text": [
      "v =\r\n",
      "\r\n",
      "   1\r\n",
      "   1\r\n",
      "   1\r\n",
      "   1\r\n",
      "   1\r\n",
      "   1\r\n",
      "   1\r\n",
      "\r\n"
     ]
    },
    {
     "name": "stdout",
     "output_type": "stream",
     "text": [
      "w =\r\n",
      "\r\n",
      "   1\r\n",
      "   1\r\n",
      "   1\r\n",
      "   1\r\n",
      "   1\r\n",
      "   1\r\n",
      "   1\r\n",
      "\r\n"
     ]
    },
    {
     "name": "stdout",
     "output_type": "stream",
     "text": [
      "z =  1\r\n",
      "z =  2\r\n",
      "z =  3\r\n",
      "z =  4\r\n",
      "z =  5\r\n",
      "z =  6\r\n",
      "z =  7\r\n"
     ]
    },
    {
     "name": "stdout",
     "output_type": "stream",
     "text": [
      "ans =\r\n",
      "\r\n",
      "   1   1   1   1   1   1   1\r\n",
      "   1   1   1   1   1   1   1\r\n",
      "   1   1   1   1   1   1   1\r\n",
      "   1   1   1   1   1   1   1\r\n",
      "   1   1   1   1   1   1   1\r\n",
      "   1   1   1   1   1   1   1\r\n",
      "   1   1   1   1   1   1   1\r\n",
      "\r\n"
     ]
    }
   ],
   "source": [
    "v=ones(7,1)\n",
    "w=ones(7,1)\n",
    "z = 0;\n",
    "for i = 1:7\n",
    "  z = z + v(i) * w(i)\n",
    "end\n",
    "w*v'"
   ]
  },
  {
   "cell_type": "code",
   "execution_count": 12,
   "metadata": {
    "collapsed": false
   },
   "outputs": [
    {
     "name": "stdout",
     "output_type": "stream",
     "text": [
      "ans =  7\r\n"
     ]
    }
   ],
   "source": [
    "sum(v.*w)"
   ]
  },
  {
   "cell_type": "code",
   "execution_count": 13,
   "metadata": {
    "collapsed": false
   },
   "outputs": [
    {
     "name": "stdout",
     "output_type": "stream",
     "text": [
      "X =\r\n",
      "\r\n",
      "   1   1   1   1   1   1   1\r\n",
      "   1   1   1   1   1   1   1\r\n",
      "   1   1   1   1   1   1   1\r\n",
      "   1   1   1   1   1   1   1\r\n",
      "   1   1   1   1   1   1   1\r\n",
      "   1   1   1   1   1   1   1\r\n",
      "   1   1   1   1   1   1   1\r\n",
      "\r\n"
     ]
    }
   ],
   "source": [
    "X=[1 1 1 1 1 1 1;1 1 1 1 1 1 1;1 1 1 1 1 1 1;1 1 1 1 1 1 1;1 1 1 1 1 1 1;1 1 1 1 1 1 1;1 1 1 1 1 1 1;]"
   ]
  },
  {
   "cell_type": "code",
   "execution_count": 32,
   "metadata": {
    "collapsed": false
   },
   "outputs": [
    {
     "name": "stdout",
     "output_type": "stream",
     "text": [
      "x =\r\n",
      "\r\n",
      "   1\r\n",
      "   1\r\n",
      "   1\r\n",
      "   1\r\n",
      "   1\r\n",
      "   1\r\n",
      "   1\r\n",
      "   1\r\n",
      "   1\r\n",
      "   1\r\n",
      "\r\n"
     ]
    },
    {
     "name": "stdout",
     "output_type": "stream",
     "text": [
      "A =\r\n",
      "\r\n",
      "   1   1   1   1   1   1   1   1   1   1\r\n",
      "   1   1   1   1   1   1   1   1   1   1\r\n",
      "   1   1   1   1   1   1   1   1   1   1\r\n",
      "   1   1   1   1   1   1   1   1   1   1\r\n",
      "   1   1   1   1   1   1   1   1   1   1\r\n",
      "   1   1   1   1   1   1   1   1   1   1\r\n",
      "   1   1   1   1   1   1   1   1   1   1\r\n",
      "   1   1   1   1   1   1   1   1   1   1\r\n",
      "   1   1   1   1   1   1   1   1   1   1\r\n",
      "   1   1   1   1   1   1   1   1   1   1\r\n",
      "\r\n"
     ]
    }
   ],
   "source": [
    "v = zeros(10, 1);\n",
    "x=ones(10,1)\n",
    "A=ones(10)\n",
    "for i = 1:10\n",
    "  for j = 1:10\n",
    "    v(i) = v(i) + A(i, j) * x(j);\n",
    "  end\n",
    "end"
   ]
  },
  {
   "cell_type": "code",
   "execution_count": 33,
   "metadata": {
    "collapsed": false
   },
   "outputs": [
    {
     "name": "stdout",
     "output_type": "stream",
     "text": [
      "v =\r\n",
      "\r\n",
      "   10\r\n",
      "   10\r\n",
      "   10\r\n",
      "   10\r\n",
      "   10\r\n",
      "   10\r\n",
      "   10\r\n",
      "   10\r\n",
      "   10\r\n",
      "   10\r\n",
      "\r\n"
     ]
    }
   ],
   "source": [
    "v"
   ]
  },
  {
   "cell_type": "code",
   "execution_count": 24,
   "metadata": {
    "collapsed": false
   },
   "outputs": [
    {
     "name": "stdout",
     "output_type": "stream",
     "text": [
      "ans =\r\n",
      "\r\n",
      "   10\r\n",
      "   10\r\n",
      "   10\r\n",
      "   10\r\n",
      "   10\r\n",
      "   10\r\n",
      "   10\r\n",
      "   10\r\n",
      "   10\r\n",
      "   10\r\n",
      "\r\n"
     ]
    }
   ],
   "source": [
    "A*x"
   ]
  },
  {
   "cell_type": "code",
   "execution_count": 25,
   "metadata": {
    "collapsed": false
   },
   "outputs": [
    {
     "name": "stdout",
     "output_type": "stream",
     "text": [
      "ans =\r\n",
      "\r\n",
      "   10   10   10   10   10   10   10   10   10   10\r\n",
      "\r\n"
     ]
    }
   ],
   "source": [
    "x'*A"
   ]
  },
  {
   "cell_type": "code",
   "execution_count": 37,
   "metadata": {
    "collapsed": false
   },
   "outputs": [
    {
     "name": "stdout",
     "output_type": "stream",
     "text": [
      "ans =  100\r\n"
     ]
    },
    {
     "name": "stdout",
     "output_type": "stream",
     "text": [
      "error: matrix cannot be indexed with .\r\n"
     ]
    }
   ],
   "source": [
    "sum(A*x)"
   ]
  },
  {
   "cell_type": "code",
   "execution_count": 27,
   "metadata": {
    "collapsed": false
   },
   "outputs": [
    {
     "name": "stdout",
     "output_type": "stream",
     "text": [
      "ans =\r\n",
      "\r\n",
      "   1   1   1   1   1   1   1   1   1   1\r\n",
      "   1   1   1   1   1   1   1   1   1   1\r\n",
      "   1   1   1   1   1   1   1   1   1   1\r\n",
      "   1   1   1   1   1   1   1   1   1   1\r\n",
      "   1   1   1   1   1   1   1   1   1   1\r\n",
      "   1   1   1   1   1   1   1   1   1   1\r\n",
      "   1   1   1   1   1   1   1   1   1   1\r\n",
      "   1   1   1   1   1   1   1   1   1   1\r\n",
      "   1   1   1   1   1   1   1   1   1   1\r\n",
      "   1   1   1   1   1   1   1   1   1   1\r\n",
      "\r\n"
     ]
    }
   ],
   "source": [
    "A.*x"
   ]
  },
  {
   "cell_type": "code",
   "execution_count": 28,
   "metadata": {
    "collapsed": false
   },
   "outputs": [
   ],
   "source": [
    "A = [1 2; 3 4; 5 6];\n",
    "B = [1 2 3; 4 5 6];\n"
   ]
  },
  {
   "cell_type": "code",
   "execution_count": 29,
   "metadata": {
    "collapsed": false
   },
   "outputs": [
    {
     "name": "stdout",
     "output_type": "stream",
     "text": [
      "ans =\r\n",
      "\r\n",
      "    2    5    8\r\n",
      "    6    9   12\r\n",
      "\r\n"
     ]
    },
    {
     "name": "stdout",
     "output_type": "stream",
     "text": [
      "ans =\r\n",
      "\r\n",
      "   22   28\r\n",
      "   49   64\r\n",
      "\r\n"
     ]
    }
   ],
   "source": [
    "A'+B\n",
    "B*A"
   ]
  },
  {
   "cell_type": "code",
   "execution_count": 43,
   "metadata": {
    "collapsed": false
   },
   "outputs": [
    {
     "name": "stdout",
     "output_type": "stream",
     "text": [
      "X =\r\n",
      "\r\n",
      "   1   1   1   1   1   1   1\r\n",
      "   1   1   1   1   1   1   1\r\n",
      "   1   1   1   1   1   1   1\r\n",
      "   1   1   1   1   1   1   1\r\n",
      "   1   1   1   1   1   1   1\r\n",
      "   1   1   1   1   1   1   1\r\n",
      "   1   1   1   1   1   1   1\r\n",
      "\r\n"
     ]
    }
   ],
   "source": [
    "X=ones(7)\n",
    "for i = 1:7\n",
    "  for j = 1:7\n",
    "    A(i, j) = log(X(i, j));\n",
    "    B(i, j) = X(i, j) ^ 2;\n",
    "    C(i, j) = X(i, j) + 1;\n",
    "    D(i, j) = X(i, j) / 4;\n",
    "  end\n",
    "end"
   ]
  },
  {
   "cell_type": "code",
   "execution_count": 46,
   "metadata": {
    "collapsed": false
   },
   "outputs": [
    {
     "name": "stdout",
     "output_type": "stream",
     "text": [
      "A =\r\n",
      "\r\n",
      "   0   0   0   0   0   0   0   1   1   1\r\n",
      "   0   0   0   0   0   0   0   1   1   1\r\n",
      "   0   0   0   0   0   0   0   1   1   1\r\n",
      "   0   0   0   0   0   0   0   1   1   1\r\n",
      "   0   0   0   0   0   0   0   1   1   1\r\n",
      "   0   0   0   0   0   0   0   1   1   1\r\n",
      "   0   0   0   0   0   0   0   1   1   1\r\n",
      "   1   1   1   1   1   1   1   1   1   1\r\n",
      "   1   1   1   1   1   1   1   1   1   1\r\n",
      "   1   1   1   1   1   1   1   1   1   1\r\n",
      "\r\n"
     ]
    },
    {
     "name": "stdout",
     "output_type": "stream",
     "text": [
      "B =\r\n",
      "\r\n",
      "   1   1   1   1   1   1   1\r\n",
      "   1   1   1   1   1   1   1\r\n",
      "   1   1   1   1   1   1   1\r\n",
      "   1   1   1   1   1   1   1\r\n",
      "   1   1   1   1   1   1   1\r\n",
      "   1   1   1   1   1   1   1\r\n",
      "   1   1   1   1   1   1   1\r\n",
      "\r\n"
     ]
    },
    {
     "name": "stdout",
     "output_type": "stream",
     "text": [
      "C =\r\n",
      "\r\n",
      "   2   2   2   2   2   2   2\r\n",
      "   2   2   2   2   2   2   2\r\n",
      "   2   2   2   2   2   2   2\r\n",
      "   2   2   2   2   2   2   2\r\n",
      "   2   2   2   2   2   2   2\r\n",
      "   2   2   2   2   2   2   2\r\n",
      "   2   2   2   2   2   2   2\r\n",
      "\r\n"
     ]
    },
    {
     "name": "stdout",
     "output_type": "stream",
     "text": [
      "ans =\r\n",
      "\r\n",
      "   2   2   2   2   2   2   2\r\n",
      "   2   2   2   2   2   2   2\r\n",
      "   2   2   2   2   2   2   2\r\n",
      "   2   2   2   2   2   2   2\r\n",
      "   2   2   2   2   2   2   2\r\n",
      "   2   2   2   2   2   2   2\r\n",
      "   2   2   2   2   2   2   2\r\n",
      "\r\n"
     ]
    },
    {
     "name": "stdout",
     "output_type": "stream",
     "text": [
      "D =\r\n",
      "\r\n",
      "   0.25000   0.25000   0.25000   0.25000   0.25000   0.25000   0.25000\r\n",
      "   0.25000   0.25000   0.25000   0.25000   0.25000   0.25000   0.25000\r\n",
      "   0.25000   0.25000   0.25000   0.25000   0.25000   0.25000   0.25000\r\n",
      "   0.25000   0.25000   0.25000   0.25000   0.25000   0.25000   0.25000\r\n",
      "   0.25000   0.25000   0.25000   0.25000   0.25000   0.25000   0.25000\r\n",
      "   0.25000   0.25000   0.25000   0.25000   0.25000   0.25000   0.25000\r\n",
      "   0.25000   0.25000   0.25000   0.25000   0.25000   0.25000   0.25000\r\n",
      "\r\n"
     ]
    },
    {
     "name": "stdout",
     "output_type": "stream",
     "text": [
      "ans =\r\n",
      "\r\n",
      "   0.25000   0.25000   0.25000   0.25000   0.25000   0.25000   0.25000\r\n",
      "   0.25000   0.25000   0.25000   0.25000   0.25000   0.25000   0.25000\r\n",
      "   0.25000   0.25000   0.25000   0.25000   0.25000   0.25000   0.25000\r\n",
      "   0.25000   0.25000   0.25000   0.25000   0.25000   0.25000   0.25000\r\n",
      "   0.25000   0.25000   0.25000   0.25000   0.25000   0.25000   0.25000\r\n",
      "   0.25000   0.25000   0.25000   0.25000   0.25000   0.25000   0.25000\r\n",
      "   0.25000   0.25000   0.25000   0.25000   0.25000   0.25000   0.25000\r\n",
      "\r\n"
     ]
    }
   ],
   "source": [
    "A\n",
    "B\n",
    "C\n",
    "X+1 % C=X+1\n",
    "D\n",
    "X/4 % D=X/4"
   ]
  },
  {
   "cell_type": "code",
   "execution_count": 0,
   "metadata": {
    "collapsed": false
   },
   "outputs": [
   ],
   "source": [
   ]
  }
 ],
 "metadata": {
  "kernelspec": {
   "display_name": "Octave",
   "language": "octave",
   "name": "octave"
  },
  "language_info": {
   "file_extension": ".m",
   "help_links": [
    {
     "text": "GNU Octave",
     "url": "https://www.gnu.org/software/octave/support.html"
    },
    {
     "text": "Octave Kernel",
     "url": "https://github.com/Calysto/octave_kernel"
    },
    {
     "text": "MetaKernel Magics",
     "url": "https://metakernel.readthedocs.io/en/latest/source/README.html"
    }
   ],
   "mimetype": "text/x-octave",
   "name": "octave",
   "version": "5.2.0"
  }
 },
 "nbformat": 4,
 "nbformat_minor": 4
}