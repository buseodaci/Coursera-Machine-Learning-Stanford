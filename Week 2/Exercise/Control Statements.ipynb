{
 "cells": [
  {
   "cell_type": "code",
   "execution_count": 1,
   "metadata": {
    "collapsed": false
   },
   "outputs": [
    {
     "name": "stdout",
     "output_type": "stream",
     "text": [
      "v =\r\n",
      "\r\n",
      "   0\r\n",
      "   0\r\n",
      "   0\r\n",
      "   0\r\n",
      "   0\r\n",
      "   0\r\n",
      "   0\r\n",
      "   0\r\n",
      "   0\r\n",
      "   0\r\n",
      "\r\n"
     ]
    }
   ],
   "source": [
    "v=zeros(10,1)"
   ]
  },
  {
   "cell_type": "code",
   "execution_count": 5,
   "metadata": {
    "collapsed": false
   },
   "outputs": [
    {
     "name": "stdout",
     "output_type": "stream",
     "text": [
      "v =\r\n",
      "\r\n",
      "      2\r\n",
      "      4\r\n",
      "      8\r\n",
      "     16\r\n",
      "     32\r\n",
      "     64\r\n",
      "    128\r\n",
      "    256\r\n",
      "    512\r\n",
      "   1024\r\n",
      "\r\n"
     ]
    }
   ],
   "source": [
    "for i=1:10,\n",
    "    v(i)=2^i;\n",
    "end;\n",
    "v"
   ]
  },
  {
   "cell_type": "code",
   "execution_count": 7,
   "metadata": {
    "collapsed": false
   },
   "outputs": [
    {
     "name": "stdout",
     "output_type": "stream",
     "text": [
      "indices =\r\n",
      "\r\n",
      "    1    2    3    4    5    6    7    8    9   10\r\n",
      "\r\n"
     ]
    }
   ],
   "source": [
    "indices=1:10;\n",
    "indices"
   ]
  },
  {
   "cell_type": "code",
   "execution_count": 8,
   "metadata": {
    "collapsed": false
   },
   "outputs": [
    {
     "name": "stdout",
     "output_type": "stream",
     "text": [
      " 1\r\n",
      " 2\r\n",
      " 3\r\n",
      " 4\r\n",
      " 5\r\n",
      " 6\r\n",
      " 7\r\n",
      " 8\r\n",
      " 9\r\n",
      " 10\r\n"
     ]
    }
   ],
   "source": [
    "for i=indices,\n",
    "    disp(i);\n",
    "end;"
   ]
  },
  {
   "cell_type": "code",
   "execution_count": 9,
   "metadata": {
    "collapsed": false
   },
   "outputs": [
    {
     "name": "stdout",
     "output_type": "stream",
     "text": [
      "v =\r\n",
      "\r\n",
      "    100\r\n",
      "    100\r\n",
      "    100\r\n",
      "    100\r\n",
      "    100\r\n",
      "     64\r\n",
      "    128\r\n",
      "    256\r\n",
      "    512\r\n",
      "   1024\r\n",
      "\r\n"
     ]
    }
   ],
   "source": [
    "i=1;\n",
    "while i<=5,\n",
    "    v(i)=100;\n",
    "    i=i+1;\n",
    "end;\n",
    "v"
   ]
  },
  {
   "cell_type": "code",
   "execution_count": 10,
   "metadata": {
    "collapsed": false
   },
   "outputs": [
    {
     "name": "stdout",
     "output_type": "stream",
     "text": [
      "v =\r\n",
      "\r\n",
      "    999\r\n",
      "    999\r\n",
      "    999\r\n",
      "    999\r\n",
      "    999\r\n",
      "     64\r\n",
      "    128\r\n",
      "    256\r\n",
      "    512\r\n",
      "   1024\r\n",
      "\r\n"
     ]
    }
   ],
   "source": [
    "i=1;\n",
    "while true,\n",
    "    v(i)=999;\n",
    "    i=i+1;\n",
    "    if i==6,\n",
    "        break;\n",
    "    end;\n",
    "end;\n",
    "v"
   ]
  },
  {
   "cell_type": "code",
   "execution_count": 11,
   "metadata": {
    "collapsed": false
   },
   "outputs": [
    {
     "name": "stdout",
     "output_type": "stream",
     "text": [
      "ans =  999\r\n"
     ]
    }
   ],
   "source": [
    "v(1)"
   ]
  },
  {
   "cell_type": "code",
   "execution_count": 12,
   "metadata": {
    "collapsed": false
   },
   "outputs": [
    {
     "name": "stdout",
     "output_type": "stream",
     "text": [
      "The value is two.\r\n"
     ]
    }
   ],
   "source": [
    "v(1)=2;\n",
    "if v(1)==1,\n",
    "    disp('The value is one.');\n",
    "elseif v(1)==2,\n",
    "    disp('The value is two.');\n",
    "else\n",
    "    disp('The value is not one or two.');\n",
    "end"
   ]
  },
  {
   "cell_type": "code",
   "execution_count": 13,
   "metadata": {
    "collapsed": false
   },
   "outputs": [
    {
     "name": "stdout",
     "output_type": "stream",
     "text": [
      "ans =  25\r\n"
     ]
    }
   ],
   "source": [
    "squareThisNumber(5)"
   ]
  },
  {
   "cell_type": "code",
   "execution_count": 14,
   "metadata": {
    "collapsed": false
   },
   "outputs": [
    {
     "name": "stdout",
     "output_type": "stream",
     "text": [
      "ans =  25\r\n"
     ]
    }
   ],
   "source": [
    "squareAndCubeThisNumber(5)"
   ]
  },
  {
   "cell_type": "code",
   "execution_count": 15,
   "metadata": {
    "collapsed": false
   },
   "outputs": [
    {
     "name": "stdout",
     "output_type": "stream",
     "text": [
      "a =  25\r\n",
      "b =  125\r\n"
     ]
    }
   ],
   "source": [
    "[a,b]=squareAndCubeThisNumber(5)"
   ]
  },
  {
   "cell_type": "code",
   "execution_count": 16,
   "metadata": {
    "collapsed": false
   },
   "outputs": [
    {
     "name": "stdout",
     "output_type": "stream",
     "text": [
      "j = 0\r\n"
     ]
    }
   ],
   "source": [
    "X=[1 1; 1 2; 1 3];\n",
    "Y=[1; 2; 3];\n",
    "theta=[0;1];\n",
    "j=costFunctionJ(X,Y,theta)"
   ]
  },
  {
   "cell_type": "code",
   "execution_count": 17,
   "metadata": {
    "collapsed": false
   },
   "outputs": [
   ],
   "source": [
    "theta=[0;0];"
   ]
  },
  {
   "cell_type": "code",
   "execution_count": 18,
   "metadata": {
    "collapsed": false
   },
   "outputs": [
    {
     "name": "stdout",
     "output_type": "stream",
     "text": [
      "j =  2.3333\r\n"
     ]
    }
   ],
   "source": [
    "j=costFunctionJ(X,Y,theta)"
   ]
  }
 ],
 "metadata": {
  "kernelspec": {
   "display_name": "Octave",
   "language": "octave",
   "name": "octave"
  },
  "language_info": {
   "file_extension": ".m",
   "help_links": [
    {
     "text": "GNU Octave",
     "url": "https://www.gnu.org/software/octave/support.html"
    },
    {
     "text": "Octave Kernel",
     "url": "https://github.com/Calysto/octave_kernel"
    },
    {
     "text": "MetaKernel Magics",
     "url": "https://metakernel.readthedocs.io/en/latest/source/README.html"
    }
   ],
   "mimetype": "text/x-octave",
   "name": "octave",
   "version": "5.2.0"
  }
 },
 "nbformat": 4,
 "nbformat_minor": 4
}